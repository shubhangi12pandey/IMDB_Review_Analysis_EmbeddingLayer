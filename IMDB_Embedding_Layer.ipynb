{
 "cells": [
  {
   "cell_type": "markdown",
   "metadata": {},
   "source": [
    "## IMDB Review Analysis using Embedding Layer Deep Learning Model."
   ]
  },
  {
   "cell_type": "markdown",
   "metadata": {},
   "source": [
    "### Importing Libraries."
   ]
  },
  {
   "cell_type": "code",
   "execution_count": 1,
   "metadata": {
    "colab": {
     "autoexec": {
      "startup": false,
      "wait_interval": 0
     },
     "base_uri": "https://localhost:8080/",
     "height": 34
    },
    "colab_type": "code",
    "executionInfo": {
     "elapsed": 8278,
     "status": "ok",
     "timestamp": 1531032960648,
     "user": {
      "displayName": "PANDEY SHUBHANGI KARUNESH",
      "photoUrl": "//lh5.googleusercontent.com/-pMJHWXCyIek/AAAAAAAAAAI/AAAAAAAAAAU/Jdf4V9IvTI0/s50-c-k-no/photo.jpg",
      "userId": "113156906577427792820"
     },
     "user_tz": -330
    },
    "id": "qf1JaXi-nyW5",
    "outputId": "aca5dcca-bc01-4c22-cc25-ba2b48607916"
   },
   "outputs": [
    {
     "name": "stderr",
     "output_type": "stream",
     "text": [
      "Using TensorFlow backend.\n"
     ]
    }
   ],
   "source": [
    "from keras.datasets import imdb\n",
    "from keras import preprocessing"
   ]
  },
  {
   "cell_type": "code",
   "execution_count": 0,
   "metadata": {
    "colab": {
     "autoexec": {
      "startup": false,
      "wait_interval": 0
     }
    },
    "colab_type": "code",
    "id": "r82AyJ4irJrW"
   },
   "outputs": [],
   "source": [
    "max_features=10000\n",
    "maxlen=20"
   ]
  },
  {
   "cell_type": "markdown",
   "metadata": {},
   "source": [
    "### Downloading the IMDB inbuilt dataset."
   ]
  },
  {
   "cell_type": "code",
   "execution_count": 3,
   "metadata": {
    "colab": {
     "autoexec": {
      "startup": false,
      "wait_interval": 0
     },
     "base_uri": "https://localhost:8080/",
     "height": 56
    },
    "colab_type": "code",
    "executionInfo": {
     "elapsed": 7669,
     "status": "ok",
     "timestamp": 1531033108150,
     "user": {
      "displayName": "PANDEY SHUBHANGI KARUNESH",
      "photoUrl": "//lh5.googleusercontent.com/-pMJHWXCyIek/AAAAAAAAAAI/AAAAAAAAAAU/Jdf4V9IvTI0/s50-c-k-no/photo.jpg",
      "userId": "113156906577427792820"
     },
     "user_tz": -330
    },
    "id": "MhxakaG9rSGh",
    "outputId": "7615647a-c1c4-4873-ac84-eb2a205ed171"
   },
   "outputs": [
    {
     "name": "stdout",
     "output_type": "stream",
     "text": [
      "Downloading data from https://s3.amazonaws.com/text-datasets/imdb.npz\n",
      "17465344/17464789 [==============================] - 1s 0us/step\n"
     ]
    }
   ],
   "source": [
    "(x_train,y_train),(x_test,y_test)=imdb.load_data(num_words=max_features)xx"
   ]
  },
  {
   "cell_type": "code",
   "execution_count": 0,
   "metadata": {
    "colab": {
     "autoexec": {
      "startup": false,
      "wait_interval": 0
     }
    },
    "colab_type": "code",
    "id": "X1GyelVRryAm"
   },
   "outputs": [],
   "source": [
    "x_train=preprocessing.sequence.pad_sequences(x_train,maxlen=maxlen)\n",
    "x_test=preprocessing.sequence.pad_sequences(x_test,maxlen=maxlen)"
   ]
  },
  {
   "cell_type": "markdown",
   "metadata": {},
   "source": [
    "### Building a DL layers and model."
   ]
  },
  {
   "cell_type": "code",
   "execution_count": 0,
   "metadata": {
    "colab": {
     "autoexec": {
      "startup": false,
      "wait_interval": 0
     }
    },
    "colab_type": "code",
    "id": "JhdUplY4sOM4"
   },
   "outputs": [],
   "source": [
    "from keras.models import Sequential\n",
    "from keras.layers import Flatten,Dense\n",
    "from keras.layers import Embedding"
   ]
  },
  {
   "cell_type": "markdown",
   "metadata": {},
   "source": [
    "### Setting the activation function and loss function and fitting the model."
   ]
  },
  {
   "cell_type": "code",
   "execution_count": 9,
   "metadata": {
    "colab": {
     "autoexec": {
      "startup": false,
      "wait_interval": 0
     },
     "base_uri": "https://localhost:8080/",
     "height": 636
    },
    "colab_type": "code",
    "executionInfo": {
     "elapsed": 18018,
     "status": "ok",
     "timestamp": 1531033795665,
     "user": {
      "displayName": "PANDEY SHUBHANGI KARUNESH",
      "photoUrl": "//lh5.googleusercontent.com/-pMJHWXCyIek/AAAAAAAAAAI/AAAAAAAAAAU/Jdf4V9IvTI0/s50-c-k-no/photo.jpg",
      "userId": "113156906577427792820"
     },
     "user_tz": -330
    },
    "id": "imG_ZC_psv03",
    "outputId": "a7352bc1-f221-4d92-9824-5cd7cec67702"
   },
   "outputs": [
    {
     "name": "stdout",
     "output_type": "stream",
     "text": [
      "_________________________________________________________________\n",
      "Layer (type)                 Output Shape              Param #   \n",
      "=================================================================\n",
      "embedding_2 (Embedding)      (None, 20, 8)             80000     \n",
      "_________________________________________________________________\n",
      "flatten_2 (Flatten)          (None, 160)               0         \n",
      "_________________________________________________________________\n",
      "dense_2 (Dense)              (None, 1)                 161       \n",
      "=================================================================\n",
      "Total params: 80,161\n",
      "Trainable params: 80,161\n",
      "Non-trainable params: 0\n",
      "_________________________________________________________________\n",
      "Train on 20000 samples, validate on 5000 samples\n",
      "Epoch 1/10\n",
      "20000/20000 [==============================] - 2s 107us/step - loss: 0.6661 - acc: 0.6280 - val_loss: 0.6128 - val_acc: 0.6996\n",
      "Epoch 2/10\n",
      "20000/20000 [==============================] - 2s 87us/step - loss: 0.5377 - acc: 0.7508 - val_loss: 0.5231 - val_acc: 0.7314\n",
      "Epoch 3/10\n",
      "19104/20000 [===========================>..] - ETA: 0s - loss: 0.4612 - acc: 0.786120000/20000 [==============================] - 2s 82us/step - loss: 0.4607 - acc: 0.7864 - val_loss: 0.4980 - val_acc: 0.7450\n",
      "Epoch 4/10\n",
      "20000/20000 [==============================] - 2s 80us/step - loss: 0.4220 - acc: 0.8089 - val_loss: 0.4925 - val_acc: 0.7534\n",
      "Epoch 5/10\n",
      "20000/20000 [==============================] - 2s 81us/step - loss: 0.3945 - acc: 0.8261 - val_loss: 0.4917 - val_acc: 0.7558\n",
      "Epoch 6/10\n",
      "20000/20000 [==============================] - 2s 80us/step - loss: 0.3723 - acc: 0.8383 - val_loss: 0.4958 - val_acc: 0.7558\n",
      "Epoch 7/10\n",
      "20000/20000 [==============================] - 2s 79us/step - loss: 0.3518 - acc: 0.8506 - val_loss: 0.4987 - val_acc: 0.7582\n",
      "Epoch 8/10\n",
      "20000/20000 [==============================] - 2s 82us/step - loss: 0.3327 - acc: 0.8605 - val_loss: 0.5058 - val_acc: 0.7552\n",
      "Epoch 9/10\n",
      "17600/20000 [=========================>....] - ETA: 0s - loss: 0.3153 - acc: 0.868420000/20000 [==============================] - 2s 80us/step - loss: 0.3147 - acc: 0.8687 - val_loss: 0.5129 - val_acc: 0.7576\n",
      "Epoch 10/10\n",
      "20000/20000 [==============================] - 2s 79us/step - loss: 0.2975 - acc: 0.8781 - val_loss: 0.5203 - val_acc: 0.7540\n"
     ]
    }
   ],
   "source": [
    "model=Sequential()\n",
    "model.add(Embedding(10000,8,input_length=maxlen))\n",
    "model.add(Flatten())\n",
    "model.add(Dense(1,activation=\"sigmoid\"))\n",
    "model.compile(optimizer=\"rmsprop\",loss=\"binary_crossentropy\",metrics=['acc'])\n",
    "model.summary()\n",
    "history=model.fit(x_train,y_train,epochs=10,batch_size=32,validation_split=0.2)"
   ]
  },
  {
   "cell_type": "markdown",
   "metadata": {
    "colab": {
     "autoexec": {
      "startup": false,
      "wait_interval": 0
     }
    },
    "colab_type": "code",
    "id": "UevRJy9dt3M_"
   },
   "source": [
    "### We observe that on 10 epochs we get an accuracy of 75%.\n",
    "\n",
    "### This result can be further improvised by using more no of epochs or more data points."
   ]
  },
  {
   "cell_type": "code",
   "execution_count": null,
   "metadata": {},
   "outputs": [],
   "source": []
  }
 ],
 "metadata": {
  "colab": {
   "collapsed_sections": [],
   "default_view": {},
   "name": "IMDB_Embedding_Layer.ipynb",
   "provenance": [],
   "version": "0.3.2",
   "views": {}
  },
  "kernelspec": {
   "display_name": "Python 3",
   "language": "python",
   "name": "python3"
  },
  "language_info": {
   "codemirror_mode": {
    "name": "ipython",
    "version": 3
   },
   "file_extension": ".py",
   "mimetype": "text/x-python",
   "name": "python",
   "nbconvert_exporter": "python",
   "pygments_lexer": "ipython3",
   "version": "3.6.5"
  }
 },
 "nbformat": 4,
 "nbformat_minor": 1
}
